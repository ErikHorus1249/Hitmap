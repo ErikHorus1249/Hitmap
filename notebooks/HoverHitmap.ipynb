{
 "cells": [
  {
   "cell_type": "code",
   "execution_count": 5,
   "id": "66c6efe9-6764-41f3-ba10-afa3b0db7ffa",
   "metadata": {},
   "outputs": [
    {
     "name": "stdout",
     "output_type": "stream",
     "text": [
      "Collecting mplcursors\n",
      "  Downloading mplcursors-0.5.3.tar.gz (88 kB)\n",
      "\u001b[2K     \u001b[38;2;114;156;31m━━━━━━━━━━━━━━━━━━━━━━━━━━━━━━━━━━━━━━━━\u001b[0m \u001b[32m88.8/88.8 KB\u001b[0m \u001b[31m1.5 MB/s\u001b[0m eta \u001b[36m0:00:00\u001b[0m[31m1.7 MB/s\u001b[0m eta \u001b[36m0:00:01\u001b[0m\n",
      "\u001b[?25h  Installing build dependencies ... \u001b[?25ldone\n",
      "\u001b[?25h  Getting requirements to build wheel ... \u001b[?25ldone\n",
      "\u001b[?25h  Preparing metadata (pyproject.toml) ... \u001b[?25ldone\n",
      "\u001b[?25hRequirement already satisfied: matplotlib!=3.7.1,>=3.1 in ./venv/lib/python3.10/site-packages (from mplcursors) (3.9.1.post1)\n",
      "Requirement already satisfied: contourpy>=1.0.1 in ./venv/lib/python3.10/site-packages (from matplotlib!=3.7.1,>=3.1->mplcursors) (1.2.1)\n",
      "Requirement already satisfied: kiwisolver>=1.3.1 in ./venv/lib/python3.10/site-packages (from matplotlib!=3.7.1,>=3.1->mplcursors) (1.4.5)\n",
      "Requirement already satisfied: cycler>=0.10 in ./venv/lib/python3.10/site-packages (from matplotlib!=3.7.1,>=3.1->mplcursors) (0.12.1)\n",
      "Requirement already satisfied: fonttools>=4.22.0 in ./venv/lib/python3.10/site-packages (from matplotlib!=3.7.1,>=3.1->mplcursors) (4.53.1)\n",
      "Requirement already satisfied: pillow>=8 in ./venv/lib/python3.10/site-packages (from matplotlib!=3.7.1,>=3.1->mplcursors) (10.4.0)\n",
      "Requirement already satisfied: packaging>=20.0 in ./venv/lib/python3.10/site-packages (from matplotlib!=3.7.1,>=3.1->mplcursors) (24.1)\n",
      "Requirement already satisfied: numpy>=1.23 in ./venv/lib/python3.10/site-packages (from matplotlib!=3.7.1,>=3.1->mplcursors) (2.0.1)\n",
      "Requirement already satisfied: pyparsing>=2.3.1 in ./venv/lib/python3.10/site-packages (from matplotlib!=3.7.1,>=3.1->mplcursors) (3.1.2)\n",
      "Requirement already satisfied: python-dateutil>=2.7 in ./venv/lib/python3.10/site-packages (from matplotlib!=3.7.1,>=3.1->mplcursors) (2.9.0.post0)\n",
      "Requirement already satisfied: six>=1.5 in ./venv/lib/python3.10/site-packages (from python-dateutil>=2.7->matplotlib!=3.7.1,>=3.1->mplcursors) (1.16.0)\n",
      "Building wheels for collected packages: mplcursors\n",
      "  Building wheel for mplcursors (pyproject.toml) ... \u001b[?25ldone\n",
      "\u001b[?25h  Created wheel for mplcursors: filename=mplcursors-0.5.3-py3-none-any.whl size=20727 sha256=b420033e01503fc36b3aed8dfbcfdf09842717e90420522e644aa33e4cf7e027\n",
      "  Stored in directory: /home/hue/.cache/pip/wheels/83/43/92/44f9515471f56877c774a515a2902d3e5484ea1bc7fd412d03\n",
      "Successfully built mplcursors\n",
      "Installing collected packages: mplcursors\n",
      "Successfully installed mplcursors-0.5.3\n",
      "Note: you may need to restart the kernel to use updated packages.\n"
     ]
    }
   ],
   "source": [
    "sudo apt-get install python3-tk\n",
    "pip install mplcursors"
   ]
  },
  {
   "cell_type": "code",
   "execution_count": 7,
   "id": "c7a4fa9e-087e-4662-86bf-9eb1d28ca58f",
   "metadata": {},
   "outputs": [
    {
     "name": "stdout",
     "output_type": "stream",
     "text": [
      "<module 'tkinter' from '/usr/lib/python3.10/tkinter/__init__.py'>\n"
     ]
    },
    {
     "ename": "TclError",
     "evalue": "no display name and no $DISPLAY environment variable",
     "output_type": "error",
     "traceback": [
      "\u001b[0;31m---------------------------------------------------------------------------\u001b[0m",
      "\u001b[0;31mTclError\u001b[0m                                  Traceback (most recent call last)",
      "Cell \u001b[0;32mIn[7], line 9\u001b[0m\n\u001b[1;32m      5\u001b[0m \u001b[38;5;28;01mimport\u001b[39;00m \u001b[38;5;21;01mmplcursors\u001b[39;00m\n\u001b[1;32m      7\u001b[0m \u001b[38;5;28mprint\u001b[39m(tk)\n\u001b[0;32m----> 9\u001b[0m root \u001b[38;5;241m=\u001b[39m \u001b[43mtk\u001b[49m\u001b[38;5;241;43m.\u001b[39;49m\u001b[43mTk\u001b[49m\u001b[43m(\u001b[49m\u001b[43m)\u001b[49m\n\u001b[1;32m     10\u001b[0m root\u001b[38;5;241m.\u001b[39mgeometry(\u001b[38;5;124m\"\u001b[39m\u001b[38;5;124m1270x590\u001b[39m\u001b[38;5;124m\"\u001b[39m)  \n\u001b[1;32m     12\u001b[0m mapArr\u001b[38;5;241m=\u001b[39mnp\u001b[38;5;241m.\u001b[39marray(([\u001b[38;5;241m113\u001b[39m,\u001b[38;5;241m62\u001b[39m,\u001b[38;5;241m31\u001b[39m,\u001b[38;5;241m63\u001b[39m],\n\u001b[1;32m     13\u001b[0m                  [\u001b[38;5;241m50\u001b[39m,\u001b[38;5;241m101\u001b[39m,\u001b[38;5;241m72\u001b[39m,\u001b[38;5;241m47\u001b[39m],\n\u001b[1;32m     14\u001b[0m                  [\u001b[38;5;241m92\u001b[39m,\u001b[38;5;241m10\u001b[39m,\u001b[38;5;241m40\u001b[39m,\u001b[38;5;241m12\u001b[39m],\n\u001b[1;32m     15\u001b[0m                  [\u001b[38;5;241m83\u001b[39m,\u001b[38;5;241m21\u001b[39m,\u001b[38;5;241m128\u001b[39m,\u001b[38;5;241m16\u001b[39m]))\n",
      "File \u001b[0;32m/usr/lib/python3.10/tkinter/__init__.py:2299\u001b[0m, in \u001b[0;36mTk.__init__\u001b[0;34m(self, screenName, baseName, className, useTk, sync, use)\u001b[0m\n\u001b[1;32m   2297\u001b[0m         baseName \u001b[38;5;241m=\u001b[39m baseName \u001b[38;5;241m+\u001b[39m ext\n\u001b[1;32m   2298\u001b[0m interactive \u001b[38;5;241m=\u001b[39m \u001b[38;5;28;01mFalse\u001b[39;00m\n\u001b[0;32m-> 2299\u001b[0m \u001b[38;5;28mself\u001b[39m\u001b[38;5;241m.\u001b[39mtk \u001b[38;5;241m=\u001b[39m \u001b[43m_tkinter\u001b[49m\u001b[38;5;241;43m.\u001b[39;49m\u001b[43mcreate\u001b[49m\u001b[43m(\u001b[49m\u001b[43mscreenName\u001b[49m\u001b[43m,\u001b[49m\u001b[43m \u001b[49m\u001b[43mbaseName\u001b[49m\u001b[43m,\u001b[49m\u001b[43m \u001b[49m\u001b[43mclassName\u001b[49m\u001b[43m,\u001b[49m\u001b[43m \u001b[49m\u001b[43minteractive\u001b[49m\u001b[43m,\u001b[49m\u001b[43m \u001b[49m\u001b[43mwantobjects\u001b[49m\u001b[43m,\u001b[49m\u001b[43m \u001b[49m\u001b[43museTk\u001b[49m\u001b[43m,\u001b[49m\u001b[43m \u001b[49m\u001b[43msync\u001b[49m\u001b[43m,\u001b[49m\u001b[43m \u001b[49m\u001b[43muse\u001b[49m\u001b[43m)\u001b[49m\n\u001b[1;32m   2300\u001b[0m \u001b[38;5;28;01mif\u001b[39;00m useTk:\n\u001b[1;32m   2301\u001b[0m     \u001b[38;5;28mself\u001b[39m\u001b[38;5;241m.\u001b[39m_loadtk()\n",
      "\u001b[0;31mTclError\u001b[0m: no display name and no $DISPLAY environment variable"
     ]
    }
   ],
   "source": [
    "import numpy as np\n",
    "import matplotlib\n",
    "from matplotlib.backends.backend_tkagg import FigureCanvasTkAgg\n",
    "import tkinter as tk\n",
    "import mplcursors\n",
    "\n",
    "print(tk)\n",
    "\n",
    "root = tk.Tk()\n",
    "root.geometry(\"1270x590\")  \n",
    "\n",
    "mapArr=np.array(([113,62,31,63],\n",
    "                 [50,101,72,47],\n",
    "                 [92,10,40,12],\n",
    "                 [83,21,128,16]))\n",
    "\n",
    "xy=(['A','B','C','D','E','F'])\n",
    "\n",
    "\n",
    "fig = matplotlib.figure.Figure() \n",
    "ax = fig.add_subplot()\n",
    "\n",
    "heatmap = ax.imshow(mapArr,cmap=\"gray\",interpolation='nearest',vmin=0, vmax=128)        \n",
    "\n",
    "cb = fig.colorbar(heatmap)                                           \n",
    "\n",
    "canvas = FigureCanvasTkAgg(fig, root)                                \n",
    "canvas.get_tk_widget().place(x=60,y=60)                               \n",
    "\n",
    "cursor = mplcursors.cursor(heatmap, hover=True)\n",
    "\n",
    "@cursor.connect(\"add\")\n",
    "def on_add(sel):\n",
    "    i,j = sel.target.index\n",
    "    sel.annotation.set_text(mapArr[i,j])\n",
    "\n",
    "tk.mainloop()"
   ]
  },
  {
   "cell_type": "code",
   "execution_count": null,
   "id": "cff6645c-55e2-4a13-8f6f-a20a5aed18fe",
   "metadata": {},
   "outputs": [],
   "source": []
  }
 ],
 "metadata": {
  "kernelspec": {
   "display_name": "Python 3 (ipykernel)",
   "language": "python",
   "name": "python3"
  },
  "language_info": {
   "codemirror_mode": {
    "name": "ipython",
    "version": 3
   },
   "file_extension": ".py",
   "mimetype": "text/x-python",
   "name": "python",
   "nbconvert_exporter": "python",
   "pygments_lexer": "ipython3",
   "version": "3.10.12"
  }
 },
 "nbformat": 4,
 "nbformat_minor": 5
}
